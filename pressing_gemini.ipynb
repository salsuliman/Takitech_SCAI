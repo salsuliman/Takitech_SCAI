{
  "cells": [
    {
      "cell_type": "code",
      "execution_count": 2,
      "metadata": {
        "colab": {
          "base_uri": "https://localhost:8080/"
        },
        "id": "WoWzPc7OSVvB",
        "outputId": "ed519d94-2d94-4bc5-abce-9c75eb2a75a8"
      },
      "outputs": [
        {
          "name": "stdout",
          "output_type": "stream",
          "text": [
            "\u001b[2K     \u001b[90m━━━━━━━━━━━━━━━━━━━━━━━━━━━━━━━━━━━━━━━\u001b[0m \u001b[32m61.0/61.0 kB\u001b[0m \u001b[31m815.1 kB/s\u001b[0m eta \u001b[36m0:00:00\u001b[0m\n",
            "\u001b[2K   \u001b[90m━━━━━━━━━━━━━━━━━━━━━━━━━━━━━━━━━━━━━━━━\u001b[0m \u001b[32m128.1/128.1 kB\u001b[0m \u001b[31m9.3 MB/s\u001b[0m eta \u001b[36m0:00:00\u001b[0m\n",
            "\u001b[2K   \u001b[90m━━━━━━━━━━━━━━━━━━━━━━━━━━━━━━━━━━━━━━━━\u001b[0m \u001b[32m1.7/1.7 MB\u001b[0m \u001b[31m58.6 MB/s\u001b[0m eta \u001b[36m0:00:00\u001b[0m\n",
            "\u001b[2K   \u001b[90m━━━━━━━━━━━━━━━━━━━━━━━━━━━━━━━━━━━━━━━━\u001b[0m \u001b[32m224.2/224.2 kB\u001b[0m \u001b[31m20.8 MB/s\u001b[0m eta \u001b[36m0:00:00\u001b[0m\n",
            "\u001b[2K   \u001b[90m━━━━━━━━━━━━━━━━━━━━━━━━━━━━━━━━━━━━━━━━\u001b[0m \u001b[32m30.9/30.9 MB\u001b[0m \u001b[31m65.6 MB/s\u001b[0m eta \u001b[36m0:00:00\u001b[0m\n",
            "\u001b[2K   \u001b[90m━━━━━━━━━━━━━━━━━━━━━━━━━━━━━━━━━━━━━━━━\u001b[0m \u001b[32m140.1/140.1 kB\u001b[0m \u001b[31m13.5 MB/s\u001b[0m eta \u001b[36m0:00:00\u001b[0m\n",
            "\u001b[2K   \u001b[90m━━━━━━━━━━━━━━━━━━━━━━━━━━━━━━━━━━━━━━━━\u001b[0m \u001b[32m489.9/489.9 MB\u001b[0m \u001b[31m3.6 MB/s\u001b[0m eta \u001b[36m0:00:00\u001b[0m\n",
            "\u001b[2K   \u001b[90m━━━━━━━━━━━━━━━━━━━━━━━━━━━━━━━━━━━━━━━━\u001b[0m \u001b[32m1.0/1.0 MB\u001b[0m \u001b[31m47.3 MB/s\u001b[0m eta \u001b[36m0:00:00\u001b[0m\n",
            "\u001b[2K   \u001b[90m━━━━━━━━━━━━━━━━━━━━━━━━━━━━━━━━━━━━━━━━\u001b[0m \u001b[32m7.9/7.9 MB\u001b[0m \u001b[31m89.2 MB/s\u001b[0m eta \u001b[36m0:00:00\u001b[0m\n",
            "\u001b[2K   \u001b[90m━━━━━━━━━━━━━━━━━━━━━━━━━━━━━━━━━━━━━━━━\u001b[0m \u001b[32m18.3/18.3 MB\u001b[0m \u001b[31m50.9 MB/s\u001b[0m eta \u001b[36m0:00:00\u001b[0m\n",
            "\u001b[2K   \u001b[90m━━━━━━━━━━━━━━━━━━━━━━━━━━━━━━━━━━━━━━━━\u001b[0m \u001b[32m294.6/294.6 kB\u001b[0m \u001b[31m24.1 MB/s\u001b[0m eta \u001b[36m0:00:00\u001b[0m\n",
            "\u001b[2K   \u001b[90m━━━━━━━━━━━━━━━━━━━━━━━━━━━━━━━━━━━━━━━━\u001b[0m \u001b[32m5.5/5.5 MB\u001b[0m \u001b[31m115.2 MB/s\u001b[0m eta \u001b[36m0:00:00\u001b[0m\n",
            "\u001b[2K   \u001b[90m━━━━━━━━━━━━━━━━━━━━━━━━━━━━━━━━━━━━━━━━\u001b[0m \u001b[32m440.7/440.7 kB\u001b[0m \u001b[31m36.2 MB/s\u001b[0m eta \u001b[36m0:00:00\u001b[0m\n",
            "\u001b[2K   \u001b[90m━━━━━━━━━━━━━━━━━━━━━━━━━━━━━━━━━━━━━━━━\u001b[0m \u001b[32m78.4/78.4 kB\u001b[0m \u001b[31m7.1 MB/s\u001b[0m eta \u001b[36m0:00:00\u001b[0m\n",
            "\u001b[?25h\u001b[31mERROR: pip's dependency resolver does not currently take into account all the packages that are installed. This behaviour is the source of the following dependency conflicts.\n",
            "grpcio-status 1.71.0 requires protobuf<6.0dev,>=5.26.1, but you have protobuf 4.25.6 which is incompatible.\n",
            "tf-keras 2.18.0 requires tensorflow<2.19,>=2.18, but you have tensorflow 2.14.1 which is incompatible.\n",
            "tensorflow-decision-forests 1.11.0 requires tensorflow==2.18.0, but you have tensorflow 2.14.1 which is incompatible.\n",
            "tensorstore 0.1.73 requires ml_dtypes>=0.3.1, but you have ml-dtypes 0.2.0 which is incompatible.\n",
            "cudf-polars-cu12 25.2.2 requires polars<1.22,>=1.20, but you have polars 1.2.1 which is incompatible.\n",
            "jax 0.5.2 requires ml_dtypes>=0.4.0, but you have ml-dtypes 0.2.0 which is incompatible.\n",
            "thinc 8.3.6 requires numpy<3.0.0,>=2.0.0, but you have numpy 1.26.4 which is incompatible.\n",
            "tensorflow-text 2.18.1 requires tensorflow<2.19,>=2.18.0, but you have tensorflow 2.14.1 which is incompatible.\n",
            "ydf 0.11.0 requires protobuf<6.0.0,>=5.29.1, but you have protobuf 4.25.6 which is incompatible.\u001b[0m\u001b[31m\n",
            "\u001b[0m"
          ]
        }
      ],
      "source": [
        "%pip install unravelsports --quiet"
      ]
    },
    {
      "cell_type": "markdown",
      "metadata": {
        "id": "BwFt5LrXT1sL"
      },
      "source": [
        "Restart Session Now"
      ]
    },
    {
      "cell_type": "code",
      "execution_count": 1,
      "metadata": {
        "id": "sHxE0CRISZis"
      },
      "outputs": [],
      "source": [
        "from unravel.soccer import KloppyPolarsDataset, PressingIntensity"
      ]
    },
    {
      "cell_type": "code",
      "execution_count": 2,
      "metadata": {
        "colab": {
          "base_uri": "https://localhost:8080/"
        },
        "collapsed": true,
        "id": "S5_4oV9xSpE-",
        "outputId": "08ebe3ec-fc05-45d3-f973-94384647c771"
      },
      "outputs": [
        {
          "name": "stdout",
          "output_type": "stream",
          "text": [
            "Collecting ffmpeg\n",
            "  Downloading ffmpeg-1.4.tar.gz (5.1 kB)\n",
            "  Preparing metadata (setup.py) ... \u001b[?25l\u001b[?25hdone\n",
            "Collecting mplsoccer\n",
            "  Downloading mplsoccer-1.4.0-py3-none-any.whl.metadata (4.8 kB)\n",
            "Requirement already satisfied: matplotlib>=3.6 in /usr/local/lib/python3.11/dist-packages (from mplsoccer) (3.10.0)\n",
            "Requirement already satisfied: numpy in /usr/local/lib/python3.11/dist-packages (from mplsoccer) (1.26.4)\n",
            "Requirement already satisfied: pandas in /usr/local/lib/python3.11/dist-packages (from mplsoccer) (2.2.2)\n",
            "Requirement already satisfied: pillow in /usr/local/lib/python3.11/dist-packages (from mplsoccer) (11.1.0)\n",
            "Requirement already satisfied: requests in /usr/local/lib/python3.11/dist-packages (from mplsoccer) (2.32.3)\n",
            "Requirement already satisfied: scipy in /usr/local/lib/python3.11/dist-packages (from mplsoccer) (1.14.1)\n",
            "Requirement already satisfied: seaborn in /usr/local/lib/python3.11/dist-packages (from mplsoccer) (0.13.2)\n",
            "Requirement already satisfied: contourpy>=1.0.1 in /usr/local/lib/python3.11/dist-packages (from matplotlib>=3.6->mplsoccer) (1.3.1)\n",
            "Requirement already satisfied: cycler>=0.10 in /usr/local/lib/python3.11/dist-packages (from matplotlib>=3.6->mplsoccer) (0.12.1)\n",
            "Requirement already satisfied: fonttools>=4.22.0 in /usr/local/lib/python3.11/dist-packages (from matplotlib>=3.6->mplsoccer) (4.57.0)\n",
            "Requirement already satisfied: kiwisolver>=1.3.1 in /usr/local/lib/python3.11/dist-packages (from matplotlib>=3.6->mplsoccer) (1.4.8)\n",
            "Requirement already satisfied: packaging>=20.0 in /usr/local/lib/python3.11/dist-packages (from matplotlib>=3.6->mplsoccer) (24.2)\n",
            "Requirement already satisfied: pyparsing>=2.3.1 in /usr/local/lib/python3.11/dist-packages (from matplotlib>=3.6->mplsoccer) (3.2.3)\n",
            "Requirement already satisfied: python-dateutil>=2.7 in /usr/local/lib/python3.11/dist-packages (from matplotlib>=3.6->mplsoccer) (2.8.2)\n",
            "Requirement already satisfied: pytz>=2020.1 in /usr/local/lib/python3.11/dist-packages (from pandas->mplsoccer) (2025.2)\n",
            "Requirement already satisfied: tzdata>=2022.7 in /usr/local/lib/python3.11/dist-packages (from pandas->mplsoccer) (2025.2)\n",
            "Requirement already satisfied: charset-normalizer<4,>=2 in /usr/local/lib/python3.11/dist-packages (from requests->mplsoccer) (3.4.1)\n",
            "Requirement already satisfied: idna<4,>=2.5 in /usr/local/lib/python3.11/dist-packages (from requests->mplsoccer) (3.10)\n",
            "Requirement already satisfied: urllib3<3,>=1.21.1 in /usr/local/lib/python3.11/dist-packages (from requests->mplsoccer) (2.3.0)\n",
            "Requirement already satisfied: certifi>=2017.4.17 in /usr/local/lib/python3.11/dist-packages (from requests->mplsoccer) (2025.1.31)\n",
            "Requirement already satisfied: six>=1.5 in /usr/local/lib/python3.11/dist-packages (from python-dateutil>=2.7->matplotlib>=3.6->mplsoccer) (1.17.0)\n",
            "Downloading mplsoccer-1.4.0-py3-none-any.whl (85 kB)\n",
            "\u001b[2K   \u001b[90m━━━━━━━━━━━━━━━━━━━━━━━━━━━━━━━━━━━━━━━━\u001b[0m \u001b[32m85.8/85.8 kB\u001b[0m \u001b[31m3.3 MB/s\u001b[0m eta \u001b[36m0:00:00\u001b[0m\n",
            "\u001b[?25hBuilding wheels for collected packages: ffmpeg\n",
            "  Building wheel for ffmpeg (setup.py) ... \u001b[?25l\u001b[?25hdone\n",
            "  Created wheel for ffmpeg: filename=ffmpeg-1.4-py3-none-any.whl size=6083 sha256=31a9904bfdd3b145e1026ee9cd99a697dcbd936a303873e448a62408a45b9966\n",
            "  Stored in directory: /root/.cache/pip/wheels/56/30/c5/576bdd729f3bc062d62a551be7fefd6ed2f761901568171e4e\n",
            "Successfully built ffmpeg\n",
            "Installing collected packages: ffmpeg, mplsoccer\n",
            "Successfully installed ffmpeg-1.4 mplsoccer-1.4.0\n"
          ]
        }
      ],
      "source": [
        "!pip install ffmpeg mplsoccer"
      ]
    },
    {
      "cell_type": "code",
      "execution_count": 3,
      "metadata": {
        "id": "gFupia4UUP92"
      },
      "outputs": [],
      "source": [
        "import os\n",
        "import time\n",
        "import numpy as np\n",
        "import pandas as pd\n",
        "import matplotlib.pyplot as plt\n",
        "import seaborn as sns\n",
        "import polars as pl\n",
        "from matplotlib.animation import FuncAnimation\n",
        "from mplsoccer import VerticalPitch\n",
        "import matplotlib.patheffects as path_effects\n",
        "from google import genai\n",
        "from kloppy import sportec"
      ]
    },
    {
      "cell_type": "code",
      "execution_count": 21,
      "metadata": {
        "id": "7162uQDxUUk7"
      },
      "outputs": [],
      "source": [
        "# Constants for visualization\n",
        "HOME_COLOR, HOME_GK_COLOR = \"red\", \"grey\"\n",
        "AWAY_COLOR, AWAY_GK_COLOR = \"black\", \"green\"\n",
        "BALL_COLOR = \"orange\"\n",
        "OUTPUT_VIDEO = \"pressing_intensity_analysis.mp4\""
      ]
    },
    {
      "cell_type": "code",
      "execution_count": 6,
      "metadata": {
        "id": "BiKuVOq1Vwpj"
      },
      "outputs": [],
      "source": [
        "from kloppy import sportec\n",
        "\n",
        "coordinates = \"secondspectrum\"\n",
        "\n",
        "kloppy_dataset = sportec.load_open_tracking_data(\n",
        "    match_id=\"J03WMX\", coordinates=coordinates, limit=5000\n",
        ")"
      ]
    },
    {
      "cell_type": "code",
      "execution_count": 7,
      "metadata": {
        "id": "I9d1OD-KXGm4"
      },
      "outputs": [],
      "source": [
        "from unravel.soccer import KloppyPolarsDataset\n",
        "\n",
        "dataset = KloppyPolarsDataset(kloppy_dataset=kloppy_dataset, orient_ball_owning=False)"
      ]
    },
    {
      "cell_type": "code",
      "execution_count": 8,
      "metadata": {
        "colab": {
          "base_uri": "https://localhost:8080/",
          "height": 744
        },
        "id": "XTnJObyLYwAA",
        "outputId": "2f026bf6-0a73-4616-d22e-eb95d2e25474"
      },
      "outputs": [
        {
          "data": {
            "text/html": [
              "<div><style>\n",
              ".dataframe > thead > tr,\n",
              ".dataframe > tbody > tr {\n",
              "  text-align: right;\n",
              "  white-space: pre-wrap;\n",
              "}\n",
              "</style>\n",
              "<small>shape: (5, 8)</small><table border=\"1\" class=\"dataframe\"><thead><tr><th>game_id</th><th>period_id</th><th>frame_id</th><th>timestamp</th><th>time_to_intercept</th><th>probability_to_intercept</th><th>columns</th><th>rows</th></tr><tr><td>str</td><td>i64</td><td>i64</td><td>duration[μs]</td><td>list[list[f64]]</td><td>list[list[f64]]</td><td>list[str]</td><td>list[str]</td></tr></thead><tbody><tr><td>&quot;DFL-MAT-J03WMX&quot;</td><td>1</td><td>12872</td><td>1m 54s 880ms</td><td>[[2.390701, 2.861643, … 3.90449], [2.898738, 4.564472, … 2.922833], … [2.813985, 4.03852, … 3.4157]]</td><td>[[0.0, 0.0, … 0.0], [0.0, 0.0, … 0.0], … [0.0, 0.0, … 0.0]]</td><td>[&quot;DFL-OBJ-0000IA&quot;, &quot;DFL-OBJ-0002AU&quot;, … &quot;DFL-OBJ-J01B8N&quot;]</td><td>[&quot;DFL-OBJ-00012X&quot;, &quot;DFL-OBJ-000270&quot;, … &quot;DFL-OBJ-J01D1W&quot;]</td></tr><tr><td>&quot;DFL-MAT-J03WMX&quot;</td><td>1</td><td>12873</td><td>1m 54s 920ms</td><td>[[2.232504, 2.696582, … 3.951205], [2.941554, 4.503709, … 2.966431], … [2.736845, 3.856013, … 3.459606]]</td><td>[[0.0, 0.0, … 0.0], [0.0, 0.0, … 0.0], … [0.0, 0.0, … 0.0]]</td><td>[&quot;DFL-OBJ-0000IA&quot;, &quot;DFL-OBJ-0002AU&quot;, … &quot;DFL-OBJ-J01B8N&quot;]</td><td>[&quot;DFL-OBJ-00012X&quot;, &quot;DFL-OBJ-000270&quot;, … &quot;DFL-OBJ-J01D1W&quot;]</td></tr><tr><td>&quot;DFL-MAT-J03WMX&quot;</td><td>1</td><td>12874</td><td>1m 54s 960ms</td><td>[[2.13599, 2.557744, … 3.988354], [2.996597, 4.454919, … 2.972684], … [2.766442, 3.697494, … 3.498005]]</td><td>[[0.0, 0.0, … 0.0], [0.0, 0.0, … 0.0], … [0.0, 0.0, … 0.0]]</td><td>[&quot;DFL-OBJ-0000IA&quot;, &quot;DFL-OBJ-0002AU&quot;, … &quot;DFL-OBJ-J01B8N&quot;]</td><td>[&quot;DFL-OBJ-00012X&quot;, &quot;DFL-OBJ-000270&quot;, … &quot;DFL-OBJ-J01D1W&quot;]</td></tr><tr><td>&quot;DFL-MAT-J03WMX&quot;</td><td>1</td><td>12875</td><td>1m 55s</td><td>[[2.065953, 2.413484, … 4.042976], [3.042859, 4.403997, … 3.015308], … [2.727374, 3.538569, … 3.547081]]</td><td>[[0.0, 0.0, … 0.0], [0.0, 0.0, … 0.0], … [0.0, 0.0, … 0.0]]</td><td>[&quot;DFL-OBJ-0000IA&quot;, &quot;DFL-OBJ-0002AU&quot;, … &quot;DFL-OBJ-J01B8N&quot;]</td><td>[&quot;DFL-OBJ-00012X&quot;, &quot;DFL-OBJ-000270&quot;, … &quot;DFL-OBJ-J01D1W&quot;]</td></tr><tr><td>&quot;DFL-MAT-J03WMX&quot;</td><td>1</td><td>12876</td><td>1m 55s 40ms</td><td>[[2.176109, 2.363153, … 4.005502], [3.042964, 4.352531, … 2.952664], … [2.943937, 3.499443, … 3.520907]]</td><td>[[0.0, 0.0, … 0.0], [0.0, 0.0, … 0.0], … [0.0, 0.0, … 0.0]]</td><td>[&quot;DFL-OBJ-0000IA&quot;, &quot;DFL-OBJ-0002AU&quot;, … &quot;DFL-OBJ-J01B8N&quot;]</td><td>[&quot;DFL-OBJ-00012X&quot;, &quot;DFL-OBJ-000270&quot;, … &quot;DFL-OBJ-J01D1W&quot;]</td></tr></tbody></table></div>"
            ],
            "text/plain": [
              "shape: (5, 8)\n",
              "┌────────────┬───────────┬──────────┬────────────┬────────────┬────────────┬───────────┬───────────┐\n",
              "│ game_id    ┆ period_id ┆ frame_id ┆ timestamp  ┆ time_to_in ┆ probabilit ┆ columns   ┆ rows      │\n",
              "│ ---        ┆ ---       ┆ ---      ┆ ---        ┆ tercept    ┆ y_to_inter ┆ ---       ┆ ---       │\n",
              "│ str        ┆ i64       ┆ i64      ┆ duration[μ ┆ ---        ┆ cept       ┆ list[str] ┆ list[str] │\n",
              "│            ┆           ┆          ┆ s]         ┆ list[list[ ┆ ---        ┆           ┆           │\n",
              "│            ┆           ┆          ┆            ┆ f64]]      ┆ list[list[ ┆           ┆           │\n",
              "│            ┆           ┆          ┆            ┆            ┆ f64]]      ┆           ┆           │\n",
              "╞════════════╪═══════════╪══════════╪════════════╪════════════╪════════════╪═══════════╪═══════════╡\n",
              "│ DFL-MAT-J0 ┆ 1         ┆ 12872    ┆ 1m 54s     ┆ [[2.390701 ┆ [[0.0,     ┆ [\"DFL-OBJ ┆ [\"DFL-OBJ │\n",
              "│ 3WMX       ┆           ┆          ┆ 880ms      ┆ ,          ┆ 0.0, …     ┆ -0000IA\", ┆ -00012X\", │\n",
              "│            ┆           ┆          ┆            ┆ 2.861643,  ┆ 0.0],      ┆ \"DFL-OBJ- ┆ \"DFL-OBJ- │\n",
              "│            ┆           ┆          ┆            ┆ … 3.9044…  ┆ [0.0,      ┆ 00…       ┆ 00…       │\n",
              "│            ┆           ┆          ┆            ┆            ┆ 0.0,…      ┆           ┆           │\n",
              "│ DFL-MAT-J0 ┆ 1         ┆ 12873    ┆ 1m 54s     ┆ [[2.232504 ┆ [[0.0,     ┆ [\"DFL-OBJ ┆ [\"DFL-OBJ │\n",
              "│ 3WMX       ┆           ┆          ┆ 920ms      ┆ ,          ┆ 0.0, …     ┆ -0000IA\", ┆ -00012X\", │\n",
              "│            ┆           ┆          ┆            ┆ 2.696582,  ┆ 0.0],      ┆ \"DFL-OBJ- ┆ \"DFL-OBJ- │\n",
              "│            ┆           ┆          ┆            ┆ … 3.9512…  ┆ [0.0,      ┆ 00…       ┆ 00…       │\n",
              "│            ┆           ┆          ┆            ┆            ┆ 0.0,…      ┆           ┆           │\n",
              "│ DFL-MAT-J0 ┆ 1         ┆ 12874    ┆ 1m 54s     ┆ [[2.13599, ┆ [[0.0,     ┆ [\"DFL-OBJ ┆ [\"DFL-OBJ │\n",
              "│ 3WMX       ┆           ┆          ┆ 960ms      ┆ 2.557744,  ┆ 0.0, …     ┆ -0000IA\", ┆ -00012X\", │\n",
              "│            ┆           ┆          ┆            ┆ … 3.98835… ┆ 0.0],      ┆ \"DFL-OBJ- ┆ \"DFL-OBJ- │\n",
              "│            ┆           ┆          ┆            ┆            ┆ [0.0,      ┆ 00…       ┆ 00…       │\n",
              "│            ┆           ┆          ┆            ┆            ┆ 0.0,…      ┆           ┆           │\n",
              "│ DFL-MAT-J0 ┆ 1         ┆ 12875    ┆ 1m 55s     ┆ [[2.065953 ┆ [[0.0,     ┆ [\"DFL-OBJ ┆ [\"DFL-OBJ │\n",
              "│ 3WMX       ┆           ┆          ┆            ┆ ,          ┆ 0.0, …     ┆ -0000IA\", ┆ -00012X\", │\n",
              "│            ┆           ┆          ┆            ┆ 2.413484,  ┆ 0.0],      ┆ \"DFL-OBJ- ┆ \"DFL-OBJ- │\n",
              "│            ┆           ┆          ┆            ┆ … 4.0429…  ┆ [0.0,      ┆ 00…       ┆ 00…       │\n",
              "│            ┆           ┆          ┆            ┆            ┆ 0.0,…      ┆           ┆           │\n",
              "│ DFL-MAT-J0 ┆ 1         ┆ 12876    ┆ 1m 55s     ┆ [[2.176109 ┆ [[0.0,     ┆ [\"DFL-OBJ ┆ [\"DFL-OBJ │\n",
              "│ 3WMX       ┆           ┆          ┆ 40ms       ┆ ,          ┆ 0.0, …     ┆ -0000IA\", ┆ -00012X\", │\n",
              "│            ┆           ┆          ┆            ┆ 2.363153,  ┆ 0.0],      ┆ \"DFL-OBJ- ┆ \"DFL-OBJ- │\n",
              "│            ┆           ┆          ┆            ┆ … 4.0055…  ┆ [0.0,      ┆ 00…       ┆ 00…       │\n",
              "│            ┆           ┆          ┆            ┆            ┆ 0.0,…      ┆           ┆           │\n",
              "└────────────┴───────────┴──────────┴────────────┴────────────┴────────────┴───────────┴───────────┘"
            ]
          },
          "execution_count": 8,
          "metadata": {},
          "output_type": "execute_result"
        }
      ],
      "source": [
        "from unravel.soccer import PressingIntensity\n",
        "\n",
        "import polars as pl\n",
        "\n",
        "model = PressingIntensity(dataset=dataset)\n",
        "model.fit(\n",
        "    start_time=pl.duration(minutes=1, seconds=53),\n",
        "    end_time=pl.duration(minutes=2, seconds=32),\n",
        "    period_id=1,\n",
        "    method=\"teams\",\n",
        "    ball_method=\"max\",\n",
        "    orient=\"home_away\",\n",
        "    speed_threshold=2.0,\n",
        ")\n",
        "model.output.head()"
      ]
    },
    {
      "cell_type": "code",
      "execution_count": 9,
      "metadata": {
        "id": "YoNkfI_CYzqC"
      },
      "outputs": [],
      "source": [
        "import seaborn as sns\n",
        "\n",
        "import matplotlib.pyplot as plt\n",
        "\n",
        "from mplsoccer import VerticalPitch\n",
        "from matplotlib.animation import FuncAnimation\n",
        "\n",
        "import seaborn as sns\n",
        "import numpy as np\n",
        "import pandas as pd\n",
        "\n",
        "HOME_COLOR, HOME_GK_COLOR = \"red\", \"grey\"\n",
        "AWAY_COLOR, AWAY_GK_COLOR = \"black\", \"green\"\n",
        "BALL_COLOR = \"orange\"\n",
        "\n",
        "\n",
        "def __plot_settings(ax, row_players, column_players, speed_threshold: float = None):\n",
        "    for t in ax.texts:\n",
        "        t.set_text(t.get_text() + \" %\")\n",
        "    ax.figure.axes[-1].yaxis.label.set_size(10)\n",
        "\n",
        "    ax.tick_params(\n",
        "        axis=\"both\",\n",
        "        which=\"major\",\n",
        "        labelsize=10,\n",
        "        labelbottom=False,\n",
        "        bottom=False,\n",
        "        top=False,\n",
        "        labeltop=True,\n",
        "    )\n",
        "\n",
        "    ax.tick_params(length=0)\n",
        "    ax.xaxis.set_label_position(\"top\")\n",
        "\n",
        "    row_colors = [\n",
        "        (\n",
        "            (\n",
        "                HOME_COLOR\n",
        "                if player.is_home and not player.is_gk\n",
        "                else (\n",
        "                    HOME_GK_COLOR\n",
        "                    if player.is_home\n",
        "                    else AWAY_COLOR if not player.is_gk else AWAY_GK_COLOR\n",
        "                )\n",
        "            )\n",
        "            if player is not None\n",
        "            else BALL_COLOR\n",
        "        )\n",
        "        for player in row_players\n",
        "    ]\n",
        "    column_colors = [\n",
        "        (\n",
        "            (\n",
        "                HOME_COLOR\n",
        "                if player.is_home and not player.is_gk\n",
        "                else (\n",
        "                    HOME_GK_COLOR\n",
        "                    if player.is_home\n",
        "                    else AWAY_COLOR if not player.is_gk else AWAY_GK_COLOR\n",
        "                )\n",
        "            )\n",
        "            if player is not None\n",
        "            else BALL_COLOR\n",
        "        )\n",
        "        for player in column_players\n",
        "    ]\n",
        "\n",
        "    [t.set_color(color) for t, color in zip(ax.xaxis.get_ticklabels(), column_colors)]\n",
        "    [t.set_color(color) for t, color in zip(ax.yaxis.get_ticklabels(), row_colors)]\n",
        "\n",
        "    ax.set_xticklabels(ax.get_xticklabels(), rotation=45)\n",
        "    ax.set_yticklabels(ax.get_yticklabels(), rotation=45)\n",
        "\n",
        "    fontsize = 15\n",
        "    if model._method == \"teams\":\n",
        "        ax.set_ylabel(row_players[0].team_name, fontsize=fontsize)\n",
        "        ax.set_xlabel(column_players[0].team_name, fontsize=fontsize)\n",
        "    else:\n",
        "        ax.set_ylabel(\"\", fontsize=fontsize)\n",
        "        ax.set_xlabel(\"\", fontsize=fontsize)\n",
        "\n",
        "    for t in ax.texts:\n",
        "        t.set_text(t.get_text())\n",
        "    if speed_threshold is not None:\n",
        "        ax.set_title(f\"Active Pressing [v > {speed_threshold}m/s]\", fontsize=14)\n",
        "\n",
        "\n",
        "def __plot_dots(frame_data, ax):\n",
        "    import matplotlib.patheffects as path_effects\n",
        "\n",
        "    # Because we use VerticalPitch we flip x and y\n",
        "\n",
        "    for r in frame_data.iter_rows(named=True):\n",
        "        v, vy, vx, y, x = r[\"v\"], r[\"vx\"], r[\"vy\"], r[\"x\"], r[\"y\"]\n",
        "        is_ball = True if r[\"team_id\"] == \"ball\" else False\n",
        "\n",
        "        if not is_ball:\n",
        "            player = dataset.get_player_by_id(player_id=r[\"id\"])\n",
        "\n",
        "            color = (\n",
        "                HOME_COLOR\n",
        "                if player.is_home and not player.is_gk\n",
        "                else (\n",
        "                    HOME_GK_COLOR\n",
        "                    if player.is_home\n",
        "                    else AWAY_COLOR if not player.is_gk else AWAY_GK_COLOR\n",
        "                )\n",
        "            )\n",
        "            ax.scatter(x, y, color=color, s=150)\n",
        "\n",
        "            if v > 1.0:\n",
        "                ax.annotate(\n",
        "                    \"\",\n",
        "                    xy=(x + vx, y + vy),\n",
        "                    xytext=(x, y),\n",
        "                    arrowprops=dict(arrowstyle=\"->\", color=color, lw=3),\n",
        "                )\n",
        "            # # Text with white border\n",
        "            text = ax.text(\n",
        "                x,\n",
        "                y,\n",
        "                player.number,\n",
        "                color=color,\n",
        "                fontsize=8,\n",
        "                ha=\"center\",\n",
        "                va=\"center\",\n",
        "                zorder=5,\n",
        "            )\n",
        "            text.set_path_effects(\n",
        "                [\n",
        "                    path_effects.Stroke(\n",
        "                        linewidth=2, foreground=\"white\"\n",
        "                    ),  # White border\n",
        "                    path_effects.Normal(),  # Restore normal text appearance\n",
        "                ]\n",
        "            )\n",
        "        else:\n",
        "            ax.scatter(x, y, color=BALL_COLOR, s=50, zorder=10)\n",
        "\n",
        "\n",
        "def __plot_matrix(\n",
        "    matrix, row_players, column_players, ax, speed_threshold: float = None\n",
        "):\n",
        "\n",
        "    df = pd.DataFrame(\n",
        "        data=matrix,\n",
        "        index=[p.number if p is not None else \"ball\" for p in row_players],\n",
        "        columns=[p.number if p is not None else \"ball\" for p in column_players],\n",
        "    )\n",
        "    sns.heatmap(\n",
        "        df * 100,\n",
        "        xticklabels=True,\n",
        "        yticklabels=True,\n",
        "        cmap=\"hot_r\",\n",
        "        ax=ax,\n",
        "        vmin=0,\n",
        "        vmax=100,\n",
        "        annot=True,\n",
        "        fmt=\".0f\",\n",
        "        square=True,\n",
        "        linewidths=0.5,\n",
        "        cbar=False,\n",
        "    )\n",
        "    __plot_settings(ax, row_players, column_players, speed_threshold)\n",
        "    return ax"
      ]
    },
    {
      "cell_type": "code",
      "execution_count": 10,
      "metadata": {
        "id": "FvEsowZjY46H"
      },
      "outputs": [],
      "source": [
        "def plot_pressing_intensity(row, ax1, ax2):\n",
        "    period_id = row[\"period_id\"]\n",
        "    frame_id = row[\"frame_id\"]\n",
        "\n",
        "    row_players = [dataset.get_player_by_id(player_id) for player_id in row[\"rows\"]]\n",
        "    column_players = [\n",
        "        dataset.get_player_by_id(player_id) for player_id in row[\"columns\"]\n",
        "    ]\n",
        "\n",
        "    frame_data = model.dataset.filter(\n",
        "        (pl.col(\"frame_id\") == frame_id) & (pl.col(\"period_id\") == period_id)\n",
        "    )\n",
        "    __plot_dots(frame_data=frame_data, ax=ax1)\n",
        "    __plot_matrix(\n",
        "        matrix=np.array([x for x in row[\"probability_to_intercept\"]]),\n",
        "        row_players=row_players,\n",
        "        column_players=column_players,\n",
        "        speed_threshold=model._speed_threshold,\n",
        "        ax=ax2,\n",
        "    )"
      ]
    },
    {
      "cell_type": "markdown",
      "metadata": {
        "id": "y9fwptDqY8Fm"
      },
      "source": [
        "video"
      ]
    },
    {
      "cell_type": "code",
      "execution_count": 11,
      "metadata": {
        "colab": {
          "base_uri": "https://localhost:8080/",
          "height": 719
        },
        "id": "tA8eOkVnY728",
        "outputId": "85f90065-2133-4fad-a0ab-b0cdd531007a"
      },
      "outputs": [
        {
          "data": {
            "image/png": "[encoded data removed]",
            "text/plain": [
              "<Figure size 1400x1000 with 2 Axes>"
            ]
          },
          "metadata": {},
          "output_type": "display_data"
        }
      ],
      "source": [
        "FILE_PATH = \"FC Koln v Bayern.mp4\"\n",
        "\n",
        "pitch = VerticalPitch(\n",
        "    pitch_type=coordinates,\n",
        "    pitch_length=dataset.settings.pitch_dimensions.pitch_length,\n",
        "    pitch_width=dataset.settings.pitch_dimensions.pitch_width,\n",
        "    pitch_color=\"white\",\n",
        "    line_color=\"#343131\",\n",
        ")\n",
        "\n",
        "fig, (ax1, ax2) = plt.subplots(1, 2, figsize=(14, 10), gridspec_kw={\"wspace\": 0.08})\n",
        "fig.subplots_adjust(left=0.05, right=0.95, top=0.95, bottom=0.05)\n",
        "\n",
        "\n",
        "def update(idx):\n",
        "    ax1.clear()\n",
        "    ax2.clear()\n",
        "\n",
        "    pitch.draw(ax=ax1)\n",
        "    row = model.output.to_pandas().iloc[idx]\n",
        "    plot_pressing_intensity(row, ax1, ax2)\n",
        "\n",
        "\n",
        "ani = FuncAnimation(fig, update, frames=len(model.output), repeat=False)\n",
        "ani.save(\n",
        "    FILE_PATH, fps=kloppy_dataset.metadata.frame_rate, extra_args=[\"-vcodec\", \"libx264\"]\n",
        ")"
      ]
    },
    {
      "cell_type": "code",
      "execution_count": 17,
      "metadata": {
        "colab": {
          "base_uri": "https://localhost:8080/"
        },
        "id": "fjWxPEIkb4Qv",
        "outputId": "493fae25-e7dd-4d8d-94fc-fb8e9bdbb543"
      },
      "outputs": [
        {
          "name": "stdout",
          "output_type": "stream",
          "text": [
            "Completed upload: https://generativelanguage.googleapis.com/v1beta/files/74fi9vwwd6i4\n"
          ]
        }
      ],
      "source": [
        "# Upload the video file\n",
        "client = genai.Client(api_key=\"ADD+YOURS\")\n",
        "video_path = \"/content/FC Koln v Bayern.mp4\"\n",
        "video_file = client.files.upload(file=video_path)\n",
        "print(f\"Completed upload: {video_file.uri}\")"
      ]
    },
    {
      "cell_type": "code",
      "execution_count": 18,
      "metadata": {
        "colab": {
          "base_uri": "https://localhost:8080/"
        },
        "id": "liS9k86-cVjv",
        "outputId": "055446ff-48cc-44ac-b79d-c8d0d0df64e0"
      },
      "outputs": [
        {
          "name": "stdout",
          "output_type": "stream",
          "text": [
            ".Video processing complete. Generating analysis...\n"
          ]
        }
      ],
      "source": [
        "# Check if video processing is complete\n",
        "while video_file.state.name == \"PROCESSING\":\n",
        "        print('.', end='')\n",
        "        time.sleep(1)\n",
        "        video_file = client.files.get(name=video_file.name)\n",
        "\n",
        "if video_file.state.name == \"FAILED\":\n",
        "        raise ValueError(f\"Video processing failed: {video_file.state.name}\")\n",
        "\n",
        "print('Video processing complete. Generating analysis...')"
      ]
    },
    {
      "cell_type": "code",
      "execution_count": 20,
      "metadata": {
        "colab": {
          "base_uri": "https://localhost:8080/"
        },
        "id": "FCf6mz7dc2j-",
        "outputId": "27676343-b784-4381-cf93-2326ae10ab22"
      },
      "outputs": [
        {
          "name": "stdout",
          "output_type": "stream",
          "text": [
            "Here's a tactical report analyzing the pressing intensity visualization of the FC Köln vs. FC Bayern München match.\n",
            "\n",
            "**MATCH: FC Köln vs. FC Bayern München**\n",
            "**TOPIC: Pressing Intensity Analysis**\n",
            "\n",
            "**I. DETAILED ANALYSIS**\n",
            "\n",
            "**A. Timeline Analysis of Pressing Sequences and Transitions**\n",
            "\n",
            "* **0:00-0:05:** Köln starts with a mid-block press, focusing on central areas. Bayern maintains possession, probing for openings.\n",
            "* **0:05-0:10:** Bayern increases pressing intensity, forcing Köln into wide areas and triggering higher pressing percentages for Bayern in the opponent's half. \n",
            "* **0:10-0:15:**  Köln attempts to build from the back but faces intense Bayern pressure, leading to turnovers in dangerous areas and increased pressing percentages in Köln's defensive third for Bayern.\n",
            "* **0:15-0:20:** Bayern continues its high press, disrupting Köln's build-up, while Köln seeks to bypass the pressure with long balls, as seen in the increasing pressing percentages in the midfield for Bayern.\n",
            "* **0:20-0:25:** Köln adjusts its shape, dropping deeper to absorb pressure. Bayern's press becomes less effective, with fewer pressing triggers and a shift in pressing intensity towards Köln's defensive half.\n",
            "* **0:25-0:30:** Köln finds some success breaking through Bayern's press, leading to quick attacks. Bayern attempts to counter-press after losing possession, showing pressing intensity increases in their midfield area.\n",
            "* **0:30-0:35:** Both teams exchange pressing sequences, with the intensity fluctuating depending on possession changes and field position.\n",
            "\n",
            "**B. Comparison of Pressing Approaches**\n",
            "\n",
            "* **FC Bayern München:**\n",
            "    * **Height of Press:** Primarily high press, pushing high up the pitch to disrupt Köln's build-up.  Occasionally drops to a mid-block press when Köln bypasses the initial press.\n",
            "    * **Triggers:** Bayern's press is triggered by backward passes, poor touches by Köln players, and passes into central areas.\n",
            "    * **Intensity Patterns:** Bayern show high pressing intensity in the attacking third and midfield when triggering their press, aiming to force errors and regain possession quickly. The intensity fluctuates based on field position and game situation.\n",
            "\n",
            "* **1. FC Köln:**\n",
            "    * **Height of Press:** Predominantly a mid-block press, focusing on compactness and closing down passing lanes. Occasionally attempts a higher press but struggles to sustain it against Bayern's quick passing.\n",
            "    * **Triggers:** Köln's press seems triggered by Bayern entering their half or attempting to play through central areas.\n",
            "    * **Intensity Patterns:** Köln's pressing intensity is generally lower than Bayern's, reflecting a more reactive approach. Their pressing becomes more intense when Bayern enters their defensive third.\n",
            "\n",
            "\n",
            "**C. Zones of Highest Pressing Intensity and Tactical Implications**\n",
            "\n",
            "* Bayern shows highest pressing intensity in the attacking third and midfield during periods of high press. This forces Köln into mistakes, limits their build-up options, and creates turnovers in dangerous areas.\n",
            "* Köln's highest pressing intensity is observed in their defensive third. This reflects a focus on protecting the goal and preventing clear scoring chances but also illustrates a less proactive approach to pressing.\n",
            "\n",
            "\n",
            "**D. Numerical Superiority/Inferiority Patterns During Pressing Phases**\n",
            "\n",
            "* Bayern often achieves numerical superiority in pressing situations, particularly in midfield and attacking third. This allows them to surround the ball carrier, close down passing lanes effectively, and force turnovers.\n",
            "* Köln struggles to create numerical superiority when pressing, which allows Bayern to easily bypass their press through quick passing combinations.\n",
            "\n",
            "**II. PLAYER PERFORMANCE**\n",
            "\n",
            "(Due to the visualization not showing individual player numbers, generic position-based observations are provided. Specific player numbers would be necessary for precise individual assessment.)\n",
            "\n",
            "\n",
            "**A. Standout Pressing Performers**\n",
            "\n",
            "* **FC Bayern München:**\n",
            "    * Central midfielders: Consistently show high pressing intensity, closing down passing lanes and winning back possession.\n",
            "    * Wingers:  Effectively support the press, forcing Köln players inside or into wide areas.\n",
            "\n",
            "* **1. FC Köln:**\n",
            "    * Central defensive midfielder: Shows the most consistent pressing intensity, attempting to disrupt Bayern's build-up through the middle.\n",
            "    * Strikers: Attempt to initiate the press but struggle to maintain consistent pressure due to Bayern's quick passing.\n",
            "\n",
            "**B. Targeted Players and Their Responses**\n",
            "\n",
            "* Köln's central defenders and defensive midfielders are frequently targeted during Bayern's pressing phases. They respond by playing long balls or attempting to find outlets to wide areas.\n",
            "\n",
            "**C. Coordination Between Pressing Units**\n",
            "\n",
            "* Bayern's pressing units (forwards, midfielders, defenders) display strong coordination, working together to close down spaces and force errors.\n",
            "* Köln's pressing coordination seems less effective, with gaps appearing between units, allowing Bayern to exploit these spaces.\n",
            "\n",
            "**III. TACTICAL RECOMMENDATIONS**\n",
            "\n",
            "**A. FC Köln - Improving Pressing Effectiveness**\n",
            "\n",
            "1. **Higher Pressing Line:** Consider employing a higher press more frequently to disrupt Bayern's build-up earlier and force them into long balls, especially during Bayern goal kicks.\n",
            "2. **Improved Coordination:** Focus on tighter coordination between pressing units, ensuring midfielders and forwards support each other effectively to prevent Bayern from playing through the press.\n",
            "3. **More Aggressive Pressing Triggers:** Implement more aggressive pressing triggers, such as when Bayern plays short passes from their goalkeeper, or plays square passes in their own half to exploit the Bayern defensive line.\n",
            "\n",
            "**B. FC Bayern München - Counterpressing Adaptations**\n",
            "\n",
            "1. **Quicker Reactions:** Focus on even quicker reactions after losing possession, immediately closing down the ball carrier and surrounding the area of the ball to regain possession quickly.\n",
            "2. **Maintain Compact Shape:** Ensure players maintain a compact shape during counterpressing, preventing Köln from exploiting gaps and launching quick counterattacks.\n",
            "3. **Blocking Passing Lanes:** Focus on not only pressing the ball carrier but also blocking crucial passing lanes to limit Köln's options after winning possession.\n",
            "\n",
            "\n",
            "**C. Pressing Triggers Optimization (Both Teams)**\n",
            "\n",
            "* Analyze opponent's passing tendencies and identify key players involved in their build-up to develop specific pressing triggers based on their weaknesses.\n",
            "\n",
            "**IV. COACHING INSIGHTS**\n",
            "\n",
            "**A. Half-Time Talking Points**\n",
            "\n",
            "1. **Pressing Intensity:** \"We need to increase our pressing intensity, especially in their half. Let's force them into mistakes and win the ball back higher up the pitch.\"\n",
            "2. **Coordination:** \"Our pressing units need to work together more effectively. Midfielders, support the forwards. Defenders, push up to maintain a compact shape.\"\n",
            "3. **Passing Lanes:** \"We're giving them too much space to play through our press. Focus on closing down passing lanes, not just pressing the ball carrier.\"\n",
            "\n",
            "**B. In-Game Adjustments**\n",
            "\n",
            "1. **Change in Pressing Height:** Adjust the height of the press based on the opponent's approach. If the opponent is playing long balls, drop the press to a mid-block. If they are trying to build from the back, push higher.\n",
            "2. **Individual Player Instructions:** Provide specific instructions to individual players based on their performance. For example, instruct a winger to press more aggressively or a midfielder to stay closer to the central defenders.\n",
            "\n",
            "**C. Pressing Training Drills**\n",
            "\n",
            "1. **Drill Name:**  4v2+2 Pressing Grid\n",
            "    * **Setup:** A small grid with four attackers, two defenders, and two neutral players.\n",
            "    * **Execution:** Attackers press to win back possession. Neutral players support the team in possession. Defenders aim to retain possession and pass to neutral players.\n",
            "    * **Variations:** Increase the grid size for more realistic spacing; restrict the number of touches allowed; introduce directional constraints.\n",
            "\n",
            "2. **Drill Name:**  7v7 Pressing Game\n",
            "    * **Setup:** A larger playing area with two teams of seven players.\n",
            "    * **Execution:** Teams practice pressing and counterpressing principles in a game situation. Emphasize quick transitions and coordinated movements.\n",
            "    * **Variations:** Introduce specific pressing triggers (e.g., backward passes); add target players; vary field dimensions.\n",
            "\n",
            "3. **Drill Name:**  3v2+1 Transition Game\n",
            "    * **Setup:**  A rectangular area with two teams of three and one neutral player in the middle.\n",
            "    * **Execution:** The team in possession plays to maintain possession and find the neutral player.  When the defending team wins the ball, they must transition to attack with the now neutral player joining their team.\n",
            "    * **Variations:** Introduce a directional rule such as forward playing only, add an element of competition by scoring points for keeping possession and scoring goals, increase the size of the playing area.\n",
            "\n",
            "\n",
            "This tactical report offers a comprehensive analysis of the pressing dynamics between FC Köln and FC Bayern München. By understanding the strengths and weaknesses of each team's pressing approach, coaches can make informed decisions to optimize their tactics and improve their team's performance.\n",
            "\n"
          ]
        }
      ],
      "source": [
        "# Generate tactical analysis\n",
        "prompt = \"\"\"\n",
        "        Analyze this football pressing intensity visualization showing a match between FC Köln and FC Bayern München:\n",
        "\n",
        "        DETAILED ANALYSIS:\n",
        "        1. Provide a timeline analysis identifying key pressing sequences and transitions (with timestamps if visible)\n",
        "        2. Compare the pressing approaches of both teams (height of press, triggers, intensity patterns)\n",
        "        3. Identify which zones of the pitch show highest pressing intensity and explain tactical implications\n",
        "        4. Analyze numerical superiority/inferiority patterns during pressing phases\n",
        "\n",
        "        PLAYER PERFORMANCE:\n",
        "        1. Identify 2-3 standout pressing performers from each team with specific examples of their effectiveness\n",
        "        2. Highlight which players are targeted most during opponent pressing and how they respond\n",
        "        3. Evaluate coordination between pressing units (forwards, midfielders, defenders)\n",
        "\n",
        "        TACTICAL RECOMMENDATIONS:\n",
        "        1. For FC Köln: List 3 specific tactical adjustments to improve pressing effectiveness\n",
        "        2. For FC Bayern München: List 3 specific counterpressing adaptations\n",
        "        3. For both teams: Identify pressing triggers that could be optimized\n",
        "\n",
        "        COACHING INSIGHTS:\n",
        "        1. Provide 3 concise talking points a coach could use at half-time\n",
        "        2. Suggest 2-3 in-game adjustments for immediate implementation\n",
        "        3. Recommend 3 specific training drills to improve observed pressing weaknesses, including:\n",
        "          - Drill name\n",
        "          - Setup explanation (players, space, equipment)\n",
        "          - Execution instructions\n",
        "          - Progressive variations to increase difficulty\n",
        "\n",
        "        Format your analysis as a professional tactical report with clear section headings and bullet points for key insights.\n",
        "    \"\"\"\n",
        "\n",
        "response = client.models.generate_content(\n",
        "        model=\"gemini-1.5-pro\",\n",
        "        contents=[video_file, prompt]\n",
        "    )\n",
        "\n",
        "print(response.text)"
      ]
    },
    {
      "cell_type": "code",
      "execution_count": null,
      "metadata": {
        "id": "UBK4G2yfc9yB"
      },
      "outputs": [],
      "source": []
    }
  ],
  "metadata": {
    "accelerator": "GPU",
    "colab": {
      "gpuType": "T4",
      "provenance": []
    },
    "kernelspec": {
      "display_name": "Python 3",
      "name": "python3"
    },
    "language_info": {
      "name": "python"
    }
  },
  "nbformat": 4,
  "nbformat_minor": 0
}
